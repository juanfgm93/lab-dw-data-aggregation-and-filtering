{
  "cells": [
    {
      "cell_type": "markdown",
      "id": "31969215-2a90-4d8b-ac36-646a7ae13744",
      "metadata": {
        "id": "31969215-2a90-4d8b-ac36-646a7ae13744"
      },
      "source": [
        "# Lab | Data Aggregation and Filtering"
      ]
    },
    {
      "cell_type": "markdown",
      "id": "a8f08a52-bec0-439b-99cc-11d3809d8b5d",
      "metadata": {
        "id": "a8f08a52-bec0-439b-99cc-11d3809d8b5d"
      },
      "source": [
        "In this challenge, we will continue to work with customer data from an insurance company. We will use the dataset called marketing_customer_analysis.csv, which can be found at the following link:\n",
        "\n",
        "https://raw.githubusercontent.com/data-bootcamp-v4/data/main/marketing_customer_analysis.csv\n",
        "\n",
        "This dataset contains information such as customer demographics, policy details, vehicle information, and the customer's response to the last marketing campaign. Our goal is to explore and analyze this data by first performing data cleaning, formatting, and structuring."
      ]
    },
    {
      "cell_type": "code",
      "execution_count": 30,
      "id": "bab0a62a",
      "metadata": {},
      "outputs": [],
      "source": [
        "import pandas as pd \n",
        "df = pd.read_csv('https://raw.githubusercontent.com/data-bootcamp-v4/data/main/marketing_customer_analysis.csv')"
      ]
    },
    {
      "cell_type": "code",
      "execution_count": 31,
      "id": "89aa04bb",
      "metadata": {},
      "outputs": [
        {
          "data": {
            "text/html": [
              "<div>\n",
              "<style scoped>\n",
              "    .dataframe tbody tr th:only-of-type {\n",
              "        vertical-align: middle;\n",
              "    }\n",
              "\n",
              "    .dataframe tbody tr th {\n",
              "        vertical-align: top;\n",
              "    }\n",
              "\n",
              "    .dataframe thead th {\n",
              "        text-align: right;\n",
              "    }\n",
              "</style>\n",
              "<table border=\"1\" class=\"dataframe\">\n",
              "  <thead>\n",
              "    <tr style=\"text-align: right;\">\n",
              "      <th></th>\n",
              "      <th>unnamed:_0</th>\n",
              "      <th>customer</th>\n",
              "      <th>state</th>\n",
              "      <th>customer_lifetime_value</th>\n",
              "      <th>response</th>\n",
              "      <th>coverage</th>\n",
              "      <th>education</th>\n",
              "      <th>effective_to_date</th>\n",
              "      <th>employmentstatus</th>\n",
              "      <th>gender</th>\n",
              "      <th>...</th>\n",
              "      <th>number_of_open_complaints</th>\n",
              "      <th>number_of_policies</th>\n",
              "      <th>policy_type</th>\n",
              "      <th>policy</th>\n",
              "      <th>renew_offer_type</th>\n",
              "      <th>sales_channel</th>\n",
              "      <th>total_claim_amount</th>\n",
              "      <th>vehicle_class</th>\n",
              "      <th>vehicle_size</th>\n",
              "      <th>vehicle_type</th>\n",
              "    </tr>\n",
              "  </thead>\n",
              "  <tbody>\n",
              "    <tr>\n",
              "      <th>0</th>\n",
              "      <td>0</td>\n",
              "      <td>DK49336</td>\n",
              "      <td>Arizona</td>\n",
              "      <td>4809.216960</td>\n",
              "      <td>No</td>\n",
              "      <td>Basic</td>\n",
              "      <td>College</td>\n",
              "      <td>2/18/11</td>\n",
              "      <td>Employed</td>\n",
              "      <td>M</td>\n",
              "      <td>...</td>\n",
              "      <td>0.0</td>\n",
              "      <td>9</td>\n",
              "      <td>Corporate Auto</td>\n",
              "      <td>Corporate L3</td>\n",
              "      <td>Offer3</td>\n",
              "      <td>Agent</td>\n",
              "      <td>292.800000</td>\n",
              "      <td>Four-Door Car</td>\n",
              "      <td>Medsize</td>\n",
              "      <td>NaN</td>\n",
              "    </tr>\n",
              "    <tr>\n",
              "      <th>1</th>\n",
              "      <td>1</td>\n",
              "      <td>KX64629</td>\n",
              "      <td>California</td>\n",
              "      <td>2228.525238</td>\n",
              "      <td>No</td>\n",
              "      <td>Basic</td>\n",
              "      <td>College</td>\n",
              "      <td>1/18/11</td>\n",
              "      <td>Unemployed</td>\n",
              "      <td>F</td>\n",
              "      <td>...</td>\n",
              "      <td>0.0</td>\n",
              "      <td>1</td>\n",
              "      <td>Personal Auto</td>\n",
              "      <td>Personal L3</td>\n",
              "      <td>Offer4</td>\n",
              "      <td>Call Center</td>\n",
              "      <td>744.924331</td>\n",
              "      <td>Four-Door Car</td>\n",
              "      <td>Medsize</td>\n",
              "      <td>NaN</td>\n",
              "    </tr>\n",
              "  </tbody>\n",
              "</table>\n",
              "<p>2 rows × 26 columns</p>\n",
              "</div>"
            ],
            "text/plain": [
              "   unnamed:_0 customer       state  customer_lifetime_value response coverage  \\\n",
              "0           0  DK49336     Arizona              4809.216960       No    Basic   \n",
              "1           1  KX64629  California              2228.525238       No    Basic   \n",
              "\n",
              "  education effective_to_date employmentstatus gender  ...  \\\n",
              "0   College           2/18/11         Employed      M  ...   \n",
              "1   College           1/18/11       Unemployed      F  ...   \n",
              "\n",
              "   number_of_open_complaints number_of_policies     policy_type        policy  \\\n",
              "0                        0.0                  9  Corporate Auto  Corporate L3   \n",
              "1                        0.0                  1   Personal Auto   Personal L3   \n",
              "\n",
              "   renew_offer_type  sales_channel  total_claim_amount  vehicle_class  \\\n",
              "0            Offer3          Agent          292.800000  Four-Door Car   \n",
              "1            Offer4    Call Center          744.924331  Four-Door Car   \n",
              "\n",
              "  vehicle_size vehicle_type  \n",
              "0      Medsize          NaN  \n",
              "1      Medsize          NaN  \n",
              "\n",
              "[2 rows x 26 columns]"
            ]
          },
          "execution_count": 31,
          "metadata": {},
          "output_type": "execute_result"
        }
      ],
      "source": [
        "df.columns = df.columns.str.lower().str.strip().str.replace(' ','_')\n",
        "df.head(2)"
      ]
    },
    {
      "cell_type": "code",
      "execution_count": 32,
      "id": "2c2a33a9",
      "metadata": {},
      "outputs": [
        {
          "data": {
            "text/plain": [
              "(10910, 25)"
            ]
          },
          "execution_count": 32,
          "metadata": {},
          "output_type": "execute_result"
        }
      ],
      "source": [
        "df.drop('unnamed:_0', axis=1, inplace=True)\n",
        "df.shape"
      ]
    },
    {
      "cell_type": "code",
      "execution_count": 33,
      "id": "dfc65297",
      "metadata": {},
      "outputs": [
        {
          "name": "stdout",
          "output_type": "stream",
          "text": [
            "customer                            0\n",
            "state                             631\n",
            "customer_lifetime_value             0\n",
            "response                          631\n",
            "coverage                            0\n",
            "education                           0\n",
            "effective_to_date                   0\n",
            "employmentstatus                    0\n",
            "gender                              0\n",
            "income                              0\n",
            "location_code                       0\n",
            "marital_status                      0\n",
            "monthly_premium_auto                0\n",
            "months_since_last_claim           633\n",
            "months_since_policy_inception       0\n",
            "number_of_open_complaints         633\n",
            "number_of_policies                  0\n",
            "policy_type                         0\n",
            "policy                              0\n",
            "renew_offer_type                    0\n",
            "sales_channel                       0\n",
            "total_claim_amount                  0\n",
            "vehicle_class                     622\n",
            "vehicle_size                      622\n",
            "vehicle_type                     5482\n",
            "dtype: int64\n",
            "customer                            0\n",
            "state                               0\n",
            "customer_lifetime_value             0\n",
            "response                            0\n",
            "coverage                            0\n",
            "education                           0\n",
            "effective_to_date                   0\n",
            "employmentstatus                    0\n",
            "gender                              0\n",
            "income                              0\n",
            "location_code                       0\n",
            "marital_status                      0\n",
            "monthly_premium_auto                0\n",
            "months_since_last_claim             0\n",
            "months_since_policy_inception       0\n",
            "number_of_open_complaints           0\n",
            "number_of_policies                  0\n",
            "policy_type                         0\n",
            "policy                              0\n",
            "renew_offer_type                    0\n",
            "sales_channel                       0\n",
            "total_claim_amount                  0\n",
            "vehicle_class                       0\n",
            "vehicle_size                        0\n",
            "vehicle_type                     4591\n",
            "dtype: int64\n",
            "[nan 'A']\n"
          ]
        }
      ],
      "source": [
        "# Presence of NaN\n",
        "\n",
        "print(df.isna().sum()) # there are similar amount of NaN values in six columns, let's drop them since they dont represent big data%\n",
        "df.dropna(subset=['state','response','months_since_last_claim','number_of_open_complaints','vehicle_class','vehicle_size'], inplace=True)\n",
        "print(df.isna().sum()) #now we have only NaN in vehicle_type\n",
        "print(df['vehicle_type'].unique()) # we have actually either NaN or 'A', so this column is not informative, let's drop it\n",
        "df.drop(['vehicle_type'], axis=1, inplace=True)\n"
      ]
    },
    {
      "cell_type": "code",
      "execution_count": 34,
      "id": "1a9d5db7",
      "metadata": {},
      "outputs": [
        {
          "data": {
            "text/plain": [
              "0"
            ]
          },
          "execution_count": 34,
          "metadata": {},
          "output_type": "execute_result"
        }
      ],
      "source": [
        "# Presence of duplicates\n",
        "\n",
        "df.duplicated().sum() # there's no duplicates"
      ]
    },
    {
      "cell_type": "markdown",
      "id": "9c98ddc5-b041-4c94-ada1-4dfee5c98e50",
      "metadata": {
        "id": "9c98ddc5-b041-4c94-ada1-4dfee5c98e50"
      },
      "source": [
        "1. Create a new DataFrame that only includes customers who have a total_claim_amount greater than $1,000 and have a response of \"Yes\" to the last marketing campaign."
      ]
    },
    {
      "cell_type": "code",
      "execution_count": 41,
      "id": "d3e01a8c",
      "metadata": {},
      "outputs": [
        {
          "data": {
            "text/html": [
              "<div>\n",
              "<style scoped>\n",
              "    .dataframe tbody tr th:only-of-type {\n",
              "        vertical-align: middle;\n",
              "    }\n",
              "\n",
              "    .dataframe tbody tr th {\n",
              "        vertical-align: top;\n",
              "    }\n",
              "\n",
              "    .dataframe thead th {\n",
              "        text-align: right;\n",
              "    }\n",
              "</style>\n",
              "<table border=\"1\" class=\"dataframe\">\n",
              "  <thead>\n",
              "    <tr style=\"text-align: right;\">\n",
              "      <th></th>\n",
              "      <th>index</th>\n",
              "      <th>customer</th>\n",
              "      <th>state</th>\n",
              "      <th>customer_lifetime_value</th>\n",
              "      <th>response</th>\n",
              "      <th>coverage</th>\n",
              "      <th>education</th>\n",
              "      <th>effective_to_date</th>\n",
              "      <th>employmentstatus</th>\n",
              "      <th>gender</th>\n",
              "      <th>...</th>\n",
              "      <th>months_since_policy_inception</th>\n",
              "      <th>number_of_open_complaints</th>\n",
              "      <th>number_of_policies</th>\n",
              "      <th>policy_type</th>\n",
              "      <th>policy</th>\n",
              "      <th>renew_offer_type</th>\n",
              "      <th>sales_channel</th>\n",
              "      <th>total_claim_amount</th>\n",
              "      <th>vehicle_class</th>\n",
              "      <th>vehicle_size</th>\n",
              "    </tr>\n",
              "  </thead>\n",
              "  <tbody>\n",
              "    <tr>\n",
              "      <th>0</th>\n",
              "      <td>189</td>\n",
              "      <td>OK31456</td>\n",
              "      <td>California</td>\n",
              "      <td>11009.13049</td>\n",
              "      <td>Yes</td>\n",
              "      <td>Premium</td>\n",
              "      <td>Bachelor</td>\n",
              "      <td>1/24/11</td>\n",
              "      <td>Employed</td>\n",
              "      <td>F</td>\n",
              "      <td>...</td>\n",
              "      <td>43</td>\n",
              "      <td>0.0</td>\n",
              "      <td>1</td>\n",
              "      <td>Corporate Auto</td>\n",
              "      <td>Corporate L3</td>\n",
              "      <td>Offer2</td>\n",
              "      <td>Agent</td>\n",
              "      <td>1358.400000</td>\n",
              "      <td>Luxury Car</td>\n",
              "      <td>Medsize</td>\n",
              "    </tr>\n",
              "    <tr>\n",
              "      <th>1</th>\n",
              "      <td>236</td>\n",
              "      <td>YJ16163</td>\n",
              "      <td>Oregon</td>\n",
              "      <td>11009.13049</td>\n",
              "      <td>Yes</td>\n",
              "      <td>Premium</td>\n",
              "      <td>Bachelor</td>\n",
              "      <td>1/24/11</td>\n",
              "      <td>Employed</td>\n",
              "      <td>F</td>\n",
              "      <td>...</td>\n",
              "      <td>43</td>\n",
              "      <td>0.0</td>\n",
              "      <td>1</td>\n",
              "      <td>Special Auto</td>\n",
              "      <td>Special L3</td>\n",
              "      <td>Offer2</td>\n",
              "      <td>Agent</td>\n",
              "      <td>1358.400000</td>\n",
              "      <td>Luxury Car</td>\n",
              "      <td>Medsize</td>\n",
              "    </tr>\n",
              "    <tr>\n",
              "      <th>2</th>\n",
              "      <td>419</td>\n",
              "      <td>GW43195</td>\n",
              "      <td>Oregon</td>\n",
              "      <td>25807.06300</td>\n",
              "      <td>Yes</td>\n",
              "      <td>Extended</td>\n",
              "      <td>College</td>\n",
              "      <td>2/13/11</td>\n",
              "      <td>Employed</td>\n",
              "      <td>F</td>\n",
              "      <td>...</td>\n",
              "      <td>89</td>\n",
              "      <td>1.0</td>\n",
              "      <td>2</td>\n",
              "      <td>Personal Auto</td>\n",
              "      <td>Personal L2</td>\n",
              "      <td>Offer1</td>\n",
              "      <td>Branch</td>\n",
              "      <td>1027.200000</td>\n",
              "      <td>Luxury Car</td>\n",
              "      <td>Small</td>\n",
              "    </tr>\n",
              "    <tr>\n",
              "      <th>3</th>\n",
              "      <td>442</td>\n",
              "      <td>IP94270</td>\n",
              "      <td>Arizona</td>\n",
              "      <td>13736.13250</td>\n",
              "      <td>Yes</td>\n",
              "      <td>Premium</td>\n",
              "      <td>Master</td>\n",
              "      <td>2/13/11</td>\n",
              "      <td>Disabled</td>\n",
              "      <td>F</td>\n",
              "      <td>...</td>\n",
              "      <td>79</td>\n",
              "      <td>0.0</td>\n",
              "      <td>8</td>\n",
              "      <td>Personal Auto</td>\n",
              "      <td>Personal L2</td>\n",
              "      <td>Offer1</td>\n",
              "      <td>Web</td>\n",
              "      <td>1261.319869</td>\n",
              "      <td>SUV</td>\n",
              "      <td>Medsize</td>\n",
              "    </tr>\n",
              "  </tbody>\n",
              "</table>\n",
              "<p>4 rows × 25 columns</p>\n",
              "</div>"
            ],
            "text/plain": [
              "   index customer       state  customer_lifetime_value response  coverage  \\\n",
              "0    189  OK31456  California              11009.13049      Yes   Premium   \n",
              "1    236  YJ16163      Oregon              11009.13049      Yes   Premium   \n",
              "2    419  GW43195      Oregon              25807.06300      Yes  Extended   \n",
              "3    442  IP94270     Arizona              13736.13250      Yes   Premium   \n",
              "\n",
              "  education effective_to_date employmentstatus gender  ...  \\\n",
              "0  Bachelor           1/24/11         Employed      F  ...   \n",
              "1  Bachelor           1/24/11         Employed      F  ...   \n",
              "2   College           2/13/11         Employed      F  ...   \n",
              "3    Master           2/13/11         Disabled      F  ...   \n",
              "\n",
              "   months_since_policy_inception number_of_open_complaints number_of_policies  \\\n",
              "0                             43                       0.0                  1   \n",
              "1                             43                       0.0                  1   \n",
              "2                             89                       1.0                  2   \n",
              "3                             79                       0.0                  8   \n",
              "\n",
              "      policy_type        policy  renew_offer_type  sales_channel  \\\n",
              "0  Corporate Auto  Corporate L3            Offer2          Agent   \n",
              "1    Special Auto    Special L3            Offer2          Agent   \n",
              "2   Personal Auto   Personal L2            Offer1         Branch   \n",
              "3   Personal Auto   Personal L2            Offer1            Web   \n",
              "\n",
              "   total_claim_amount vehicle_class vehicle_size  \n",
              "0         1358.400000    Luxury Car      Medsize  \n",
              "1         1358.400000    Luxury Car      Medsize  \n",
              "2         1027.200000    Luxury Car        Small  \n",
              "3         1261.319869           SUV      Medsize  \n",
              "\n",
              "[4 rows x 25 columns]"
            ]
          },
          "execution_count": 41,
          "metadata": {},
          "output_type": "execute_result"
        }
      ],
      "source": [
        "df_2 = df[(df['total_claim_amount'] > 1000) & (df['response'] == 'Yes')].reset_index()\n",
        "df_2.head(4)"
      ]
    },
    {
      "cell_type": "markdown",
      "id": "b9be383e-5165-436e-80c8-57d4c757c8c3",
      "metadata": {
        "id": "b9be383e-5165-436e-80c8-57d4c757c8c3"
      },
      "source": [
        "2. Using the original Dataframe, analyze the average total_claim_amount by each policy type and gender for customers who have responded \"Yes\" to the last marketing campaign. Write your conclusions."
      ]
    },
    {
      "cell_type": "code",
      "execution_count": 45,
      "id": "3001d4de",
      "metadata": {},
      "outputs": [
        {
          "data": {
            "text/plain": [
              "policy_type     gender\n",
              "Corporate Auto  F         431.480117\n",
              "                M         412.756888\n",
              "Personal Auto   F         454.089997\n",
              "                M         453.603715\n",
              "Special Auto    F         455.648867\n",
              "                M         414.799291\n",
              "Name: total_claim_amount, dtype: float64"
            ]
          },
          "execution_count": 45,
          "metadata": {},
          "output_type": "execute_result"
        }
      ],
      "source": [
        "df_yes = df[df['response'] == 'Yes']\n",
        "df_yes.groupby(['policy_type','gender'])['total_claim_amount'].mean()\n",
        "\n",
        "# Results show that for those customer who responded 'Yes', the average total claim amount is higher in females holding either the policy type \n",
        "# 'special auto' or 'personal auto' than those holding the policy type 'corporate auto'. On the other hand, males holding the policy type 'personal\n",
        "# auto' display the higher total claim amount than those with the 'corporate auto' or 'special auto'."
      ]
    },
    {
      "cell_type": "markdown",
      "id": "7050f4ac-53c5-4193-a3c0-8699b87196f0",
      "metadata": {
        "id": "7050f4ac-53c5-4193-a3c0-8699b87196f0"
      },
      "source": [
        "3. Analyze the total number of customers who have policies in each state, and then filter the results to only include states where there are more than 500 customers."
      ]
    },
    {
      "cell_type": "code",
      "execution_count": 60,
      "id": "4de0db03",
      "metadata": {},
      "outputs": [
        {
          "data": {
            "text/plain": [
              "state\n",
              "Arizona       1703\n",
              "California    3150\n",
              "Nevada         882\n",
              "Oregon        2601\n",
              "Washington     798\n",
              "Name: customer, dtype: int64"
            ]
          },
          "execution_count": 60,
          "metadata": {},
          "output_type": "execute_result"
        }
      ],
      "source": [
        "df.groupby('state')['customer'].count() # in all states there are more than 500 customers."
      ]
    },
    {
      "cell_type": "markdown",
      "id": "b60a4443-a1a7-4bbf-b78e-9ccdf9895e0d",
      "metadata": {
        "id": "b60a4443-a1a7-4bbf-b78e-9ccdf9895e0d"
      },
      "source": [
        "4. Find the maximum, minimum, and median customer lifetime value by education level and gender. Write your conclusions."
      ]
    },
    {
      "cell_type": "code",
      "execution_count": 64,
      "id": "0dee96f6",
      "metadata": {},
      "outputs": [
        {
          "data": {
            "text/html": [
              "<div>\n",
              "<style scoped>\n",
              "    .dataframe tbody tr th:only-of-type {\n",
              "        vertical-align: middle;\n",
              "    }\n",
              "\n",
              "    .dataframe tbody tr th {\n",
              "        vertical-align: top;\n",
              "    }\n",
              "\n",
              "    .dataframe thead th {\n",
              "        text-align: right;\n",
              "    }\n",
              "</style>\n",
              "<table border=\"1\" class=\"dataframe\">\n",
              "  <thead>\n",
              "    <tr style=\"text-align: right;\">\n",
              "      <th></th>\n",
              "      <th></th>\n",
              "      <th>max</th>\n",
              "      <th>min</th>\n",
              "      <th>median</th>\n",
              "    </tr>\n",
              "    <tr>\n",
              "      <th>education</th>\n",
              "      <th>gender</th>\n",
              "      <th></th>\n",
              "      <th></th>\n",
              "      <th></th>\n",
              "    </tr>\n",
              "  </thead>\n",
              "  <tbody>\n",
              "    <tr>\n",
              "      <th rowspan=\"2\" valign=\"top\">Bachelor</th>\n",
              "      <th>F</th>\n",
              "      <td>73225.95652</td>\n",
              "      <td>1904.000852</td>\n",
              "      <td>5678.050167</td>\n",
              "    </tr>\n",
              "    <tr>\n",
              "      <th>M</th>\n",
              "      <td>67907.27050</td>\n",
              "      <td>1898.007675</td>\n",
              "      <td>5555.830205</td>\n",
              "    </tr>\n",
              "    <tr>\n",
              "      <th rowspan=\"2\" valign=\"top\">College</th>\n",
              "      <th>F</th>\n",
              "      <td>61850.18803</td>\n",
              "      <td>1898.683686</td>\n",
              "      <td>5621.789489</td>\n",
              "    </tr>\n",
              "    <tr>\n",
              "      <th>M</th>\n",
              "      <td>61134.68307</td>\n",
              "      <td>1918.119700</td>\n",
              "      <td>5989.773931</td>\n",
              "    </tr>\n",
              "    <tr>\n",
              "      <th rowspan=\"2\" valign=\"top\">Doctor</th>\n",
              "      <th>F</th>\n",
              "      <td>44856.11397</td>\n",
              "      <td>2395.570000</td>\n",
              "      <td>5332.462694</td>\n",
              "    </tr>\n",
              "    <tr>\n",
              "      <th>M</th>\n",
              "      <td>32677.34284</td>\n",
              "      <td>2267.604038</td>\n",
              "      <td>5620.587184</td>\n",
              "    </tr>\n",
              "    <tr>\n",
              "      <th rowspan=\"2\" valign=\"top\">High School or Below</th>\n",
              "      <th>F</th>\n",
              "      <td>55277.44589</td>\n",
              "      <td>2144.921535</td>\n",
              "      <td>6044.020038</td>\n",
              "    </tr>\n",
              "    <tr>\n",
              "      <th>M</th>\n",
              "      <td>83325.38119</td>\n",
              "      <td>1940.981221</td>\n",
              "      <td>6176.700392</td>\n",
              "    </tr>\n",
              "    <tr>\n",
              "      <th rowspan=\"2\" valign=\"top\">Master</th>\n",
              "      <th>F</th>\n",
              "      <td>51016.06704</td>\n",
              "      <td>2417.777032</td>\n",
              "      <td>5801.128252</td>\n",
              "    </tr>\n",
              "    <tr>\n",
              "      <th>M</th>\n",
              "      <td>50568.25912</td>\n",
              "      <td>2272.307310</td>\n",
              "      <td>5617.956917</td>\n",
              "    </tr>\n",
              "  </tbody>\n",
              "</table>\n",
              "</div>"
            ],
            "text/plain": [
              "                                     max          min       median\n",
              "education            gender                                       \n",
              "Bachelor             F       73225.95652  1904.000852  5678.050167\n",
              "                     M       67907.27050  1898.007675  5555.830205\n",
              "College              F       61850.18803  1898.683686  5621.789489\n",
              "                     M       61134.68307  1918.119700  5989.773931\n",
              "Doctor               F       44856.11397  2395.570000  5332.462694\n",
              "                     M       32677.34284  2267.604038  5620.587184\n",
              "High School or Below F       55277.44589  2144.921535  6044.020038\n",
              "                     M       83325.38119  1940.981221  6176.700392\n",
              "Master               F       51016.06704  2417.777032  5801.128252\n",
              "                     M       50568.25912  2272.307310  5617.956917"
            ]
          },
          "execution_count": 64,
          "metadata": {},
          "output_type": "execute_result"
        }
      ],
      "source": [
        "df.groupby(['education','gender'])['customer_lifetime_value'].agg(['max', 'min', 'median'])\n",
        "# In females, customer lifetime value median is higher with 'high school or below' education level, as well as in males. On the other hand, maximum\n",
        "# values for both males and females with 'Doctor' education level are lower than for the rest of education levels. Higher maximum values for females \n",
        "# are detected with 'Bachelor' edcuation level, meanwhile those for males are found in 'High school or below' education level. Minimum values are\n",
        "# quite similar across genders and education levels."
      ]
    },
    {
      "cell_type": "markdown",
      "id": "b42999f9-311f-481e-ae63-40a5577072c5",
      "metadata": {
        "id": "b42999f9-311f-481e-ae63-40a5577072c5"
      },
      "source": [
        "## Bonus"
      ]
    },
    {
      "cell_type": "markdown",
      "id": "81ff02c5-6584-4f21-a358-b918697c6432",
      "metadata": {
        "id": "81ff02c5-6584-4f21-a358-b918697c6432"
      },
      "source": [
        "5. The marketing team wants to analyze the number of policies sold by state and month. Present the data in a table where the months are arranged as columns and the states are arranged as rows."
      ]
    },
    {
      "cell_type": "markdown",
      "id": "b6aec097-c633-4017-a125-e77a97259cda",
      "metadata": {
        "id": "b6aec097-c633-4017-a125-e77a97259cda"
      },
      "source": [
        "6.  Display a new DataFrame that contains the number of policies sold by month, by state, for the top 3 states with the highest number of policies sold.\n",
        "\n",
        "*Hint:*\n",
        "- *To accomplish this, you will first need to group the data by state and month, then count the number of policies sold for each group. Afterwards, you will need to sort the data by the count of policies sold in descending order.*\n",
        "- *Next, you will select the top 3 states with the highest number of policies sold.*\n",
        "- *Finally, you will create a new DataFrame that contains the number of policies sold by month for each of the top 3 states.*"
      ]
    },
    {
      "cell_type": "markdown",
      "id": "ba975b8a-a2cf-4fbf-9f59-ebc381767009",
      "metadata": {
        "id": "ba975b8a-a2cf-4fbf-9f59-ebc381767009"
      },
      "source": [
        "7. The marketing team wants to analyze the effect of different marketing channels on the customer response rate.\n",
        "\n",
        "Hint: You can use melt to unpivot the data and create a table that shows the customer response rate (those who responded \"Yes\") by marketing channel."
      ]
    },
    {
      "cell_type": "markdown",
      "id": "e4378d94-48fb-4850-a802-b1bc8f427b2d",
      "metadata": {
        "id": "e4378d94-48fb-4850-a802-b1bc8f427b2d"
      },
      "source": [
        "External Resources for Data Filtering: https://towardsdatascience.com/filtering-data-frames-in-pandas-b570b1f834b9"
      ]
    },
    {
      "cell_type": "code",
      "execution_count": 35,
      "id": "449513f4-0459-46a0-a18d-9398d974c9ad",
      "metadata": {
        "id": "449513f4-0459-46a0-a18d-9398d974c9ad"
      },
      "outputs": [],
      "source": [
        "# your code goes here"
      ]
    }
  ],
  "metadata": {
    "colab": {
      "provenance": []
    },
    "kernelspec": {
      "display_name": "Python 3 (ipykernel)",
      "language": "python",
      "name": "python3"
    },
    "language_info": {
      "codemirror_mode": {
        "name": "ipython",
        "version": 3
      },
      "file_extension": ".py",
      "mimetype": "text/x-python",
      "name": "python",
      "nbconvert_exporter": "python",
      "pygments_lexer": "ipython3",
      "version": "3.11.5"
    }
  },
  "nbformat": 4,
  "nbformat_minor": 5
}
